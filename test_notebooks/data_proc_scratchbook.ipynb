{
 "cells": [
  {
   "cell_type": "code",
   "execution_count": null,
   "metadata": {},
   "outputs": [],
   "source": [
    "import numpy as np\n",
    "import pandas as pd\n",
    "import os\n",
    "from data.buses import LTA\n",
    "from data_proc import *\n",
    "import plotly"
   ]
  },
  {
   "cell_type": "code",
   "execution_count": null,
   "metadata": {},
   "outputs": [],
   "source": [
    "apiKey:str = \"\"\n",
    "\n",
    "def to_df(data):\n",
    "    data = pd.DataFrame.from_dict(data['value'])\n",
    "    return data\n",
    "\n",
    "lta = LTA(apiKey)\n",
    "\n"
   ]
  },
  {
   "cell_type": "code",
   "execution_count": null,
   "metadata": {},
   "outputs": [],
   "source": [
    "# Get df_bus_route\n",
    "bus_route = lta.get_bus_routes()\n",
    "df_bus_route = to_df(bus_route)\n",
    "df_bus_route"
   ]
  },
  {
   "cell_type": "code",
   "execution_count": null,
   "metadata": {},
   "outputs": [],
   "source": [
    "# preprocess_df_bus_route_1d: function to preprocess df_bus_route\n",
    "# Input\n",
    "df = df_bus_route\n",
    "\n",
    "# Get ServiceNo with two directions\n",
    "service_no_with_two_directions = df.groupby('ServiceNo')['Direction'].max()\n",
    "service_no_with_two_directions = service_no_with_two_directions[service_no_with_two_directions == 2].index\n",
    "\n",
    "# Filter the original DataFrame to include only ServiceNo with two directions\n",
    "df = df[df['ServiceNo'].isin(service_no_with_two_directions)]\n",
    "\n",
    "# Filter to include only Direction == 1 for each unique ServiceNo\n",
    "df = df[df['Direction'] == 1] \n",
    "\n",
    "# Get the bus stop code when StopSequence is 1 for each bus\n",
    "origin_bus_stop = df[df['StopSequence'] == 1].groupby('ServiceNo').agg(\n",
    "    origin_bus_stop=('BusStopCode', 'first')\n",
    ")\n",
    "# Get the bus stop code when StopSequence is the max for each bus\n",
    "destination_bus_stop = df.groupby('ServiceNo').agg(\n",
    "    dest_bus_stop=('BusStopCode', 'last'),\n",
    "    origin_dest_distance=('Distance', 'last')\n",
    ")\n",
    "\n",
    "# Merge origin_bus_stop into destination_bus_stop DataFrame\n",
    "df_bus_route_processed = destination_bus_stop.merge(origin_bus_stop, left_index=True, right_index=True, how='left')\n",
    "\n",
    "# Add Direction column\n",
    "df_bus_route_processed['Direction'] = 1\n",
    "\n",
    "# Reset index to make ServiceNo a column instead of index\n",
    "df_bus_route_processed.reset_index(inplace=True)\n",
    "\n",
    "# Reorder columns\n",
    "df_bus_route_processed = df_bus_route_processed[['ServiceNo', 'Direction', 'origin_bus_stop', 'dest_bus_stop', 'origin_dest_distance']]\n",
    "\n",
    "df_bus_route_processed\n"
   ]
  },
  {
   "cell_type": "code",
   "execution_count": null,
   "metadata": {},
   "outputs": [],
   "source": [
    "# preprocess_df_bus_route_2d: function to preprocess df_bus_route\n",
    "# Input\n",
    "df = df_bus_route\n",
    "\n",
    "# Get ServiceNo with two directions\n",
    "service_no_with_two_directions = df.groupby('ServiceNo')['Direction'].max()\n",
    "service_no_with_two_directions = service_no_with_two_directions[service_no_with_two_directions == 2].index\n",
    "\n",
    "# Filter the original DataFrame to include only ServiceNo with two directions\n",
    "df = df[df['ServiceNo'].isin(service_no_with_two_directions)]\n",
    "\n",
    "# Filter to include only Direction == 1 for each unique ServiceNo\n",
    "df1 = df[df['Direction'] == 1]\n",
    "df2 = df[df['Direction'] == 2]  \n",
    "\n",
    "def process_df_by_serviceNo(df):\n",
    "    # Get the bus stop code when StopSequence is 1 for each bus\n",
    "    origin_bus_stop = df[df['StopSequence'] == 1].groupby('ServiceNo').agg(\n",
    "        origin_bus_stop=('BusStopCode', 'first')\n",
    "    )\n",
    "    # Get the bus stop code when StopSequence is the max for each bus\n",
    "    destination_bus_stop = df.groupby('ServiceNo').agg(\n",
    "        dest_bus_stop=('BusStopCode', 'last'),\n",
    "        origin_dest_distance=('Distance', 'last')\n",
    "    )\n",
    "\n",
    "    # Merge origin_bus_stop into destination_bus_stop DataFrame\n",
    "    df_bus_route_processed = destination_bus_stop.merge(origin_bus_stop, left_index=True, right_index=True, how='left')\n",
    "\n",
    "    # Add Direction column\n",
    "    df_bus_route_processed['Direction'] = df['Direction'].unique()[0]\n",
    "\n",
    "    # Reset index to make ServiceNo a column instead of index\n",
    "    df_bus_route_processed.reset_index(inplace=True)\n",
    "\n",
    "    # Reorder columns\n",
    "    df_bus_route_processed = df_bus_route_processed[['ServiceNo', 'Direction', 'origin_bus_stop', 'dest_bus_stop', 'origin_dest_distance']]\n",
    "    return df_bus_route_processed\n",
    "\n",
    "df1_processed = process_df_by_serviceNo(df1)\n",
    "df2_processed = process_df_by_serviceNo(df2)\n",
    "\n",
    "# Concatenate the two DataFrames\n",
    "concatenated_df = pd.concat([df1_processed, df2_processed])\n",
    "\n",
    "# Sort the concatenated DataFrame by ServiceNo and Direction\n",
    "sorted_df = concatenated_df.sort_values(by=['ServiceNo', 'Direction'])\n",
    "\n",
    "# Reset the index\n",
    "sorted_df.reset_index(drop=True, inplace=True)\n",
    "\n",
    "print(df1_processed)\n",
    "print(df2_processed)\n",
    "print(sorted_df)\n"
   ]
  },
  {
   "cell_type": "code",
   "execution_count": null,
   "metadata": {},
   "outputs": [],
   "source": [
    "# Test preprocess_df_bus_route_1d\n",
    "df_1d = preprocess_df_bus_route_1d(df_bus_route)\n",
    "df_1d"
   ]
  },
  {
   "cell_type": "code",
   "execution_count": null,
   "metadata": {},
   "outputs": [],
   "source": [
    "# Test preprocess_df_bus_route_2d\n",
    "df_2d = preprocess_df_bus_route_2d(df_bus_route)\n",
    "df_2d"
   ]
  },
  {
   "cell_type": "code",
   "execution_count": null,
   "metadata": {},
   "outputs": [],
   "source": [
    "# Each 'ServiceNo' -> min-max 'StopSequence' -> min-max 'Distance' \n",
    "df_bus_route[df_bus_route['ServiceNo'] == '10']\n"
   ]
  },
  {
   "cell_type": "code",
   "execution_count": null,
   "metadata": {},
   "outputs": [],
   "source": [
    "# 'Direction' == 1 and 'Direction' == 2 have different origin-destination distances, can take maximum of these too\n",
    "    # Better to pick only 'Direction' == 1 since it reduces frontend work when plotting the bus stops\n",
    "df_bus_route[(df_bus_route['ServiceNo'] == '10') & (df_bus_route['Direction'] == 1)]"
   ]
  },
  {
   "cell_type": "code",
   "execution_count": null,
   "metadata": {},
   "outputs": [],
   "source": [
    "# start: 16009, end: 75009\n",
    "df_bus_route[(df_bus_route['ServiceNo'] == '10') & (df_bus_route['Direction'] == 2)]"
   ]
  },
  {
   "cell_type": "code",
   "execution_count": null,
   "metadata": {},
   "outputs": [],
   "source": [
    "# Loop service bus route?\n",
    "    # Conclusion: only cares about 'Direction'=1, and max'Distance' from this direction \n",
    "df_bus_route[df_bus_route['ServiceNo'] == '101']"
   ]
  },
  {
   "cell_type": "code",
   "execution_count": null,
   "metadata": {},
   "outputs": [],
   "source": [
    "# Bus 100\n",
    "df_bus_route[(df_bus_route['ServiceNo'] == '100') & (df_bus_route['Direction'] == 2)]"
   ]
  },
  {
   "cell_type": "code",
   "execution_count": null,
   "metadata": {},
   "outputs": [],
   "source": [
    "# Get df_bus_stop"
   ]
  },
  {
   "cell_type": "code",
   "execution_count": null,
   "metadata": {},
   "outputs": [],
   "source": [
    "# Load existing zipped data\n",
    "current_folder_path = os.getcwd()\n",
    "data_folder_name = \"data\"\n",
    "data_file_name = \"origin_destination_bus_202402.zip\"\n",
    "data_file_path = os.path.join(current_folder_path, data_folder_name, data_file_name)\n",
    "df = pd.read_csv(data_file_path)\n",
    "df"
   ]
  },
  {
   "cell_type": "code",
   "execution_count": null,
   "metadata": {},
   "outputs": [],
   "source": [
    "# Preprocess total-trips df to get monthly origin-dest total trips\n",
    "# Filter 'PT_TYPE' == 'BUS'\n",
    "df = df[df['PT_TYPE'] == 'BUS']\n",
    "\n",
    "# Group by YEAR_MONTH, ORIGIN_PT_CODE, DESTINATION_PT_CODE and sum TOTAL_TRIPS\n",
    "condensed_df = df.groupby(['YEAR_MONTH', 'ORIGIN_PT_CODE', 'DESTINATION_PT_CODE']).agg({'TOTAL_TRIPS': 'sum'}).reset_index()\n",
    "\n",
    "# Display the condensed DataFrame\n",
    "print(condensed_df)"
   ]
  },
  {
   "cell_type": "code",
   "execution_count": null,
   "metadata": {},
   "outputs": [],
   "source": [
    "# Test proprocess_totalTrips_df\n",
    "df_total_trips = preprocess_totalTrips_df(df)\n",
    "df_total_trips"
   ]
  },
  {
   "cell_type": "code",
   "execution_count": null,
   "metadata": {},
   "outputs": [],
   "source": [
    "# df_2d\n",
    "df_2d"
   ]
  },
  {
   "cell_type": "code",
   "execution_count": null,
   "metadata": {},
   "outputs": [],
   "source": [
    "print(sorted_df.dtypes)\n",
    "print(df_total_trips.dtypes)"
   ]
  },
  {
   "cell_type": "code",
   "execution_count": null,
   "metadata": {},
   "outputs": [],
   "source": [
    "# Merge df_total_trips into df_2d\n",
    "merged_df = df_2d.merge(df_total_trips, \n",
    "                             left_on=['origin_bus_stop', 'dest_bus_stop'], \n",
    "                             right_on=['ORIGIN_PT_CODE', 'DESTINATION_PT_CODE'], \n",
    "                             how='left')\n",
    "merged_df"
   ]
  },
  {
   "cell_type": "code",
   "execution_count": null,
   "metadata": {},
   "outputs": [],
   "source": [
    "# Test merge_distance_totalTrips\n",
    "df_distance_totalTrips = merge_distance_totalTrips(df_2d, df_total_trips)\n",
    "df_distance_totalTrips"
   ]
  },
  {
   "cell_type": "code",
   "execution_count": null,
   "metadata": {},
   "outputs": [],
   "source": [
    "# df_bus_stops\n",
    "bus_stops = lta.get_bus_stops()\n",
    "bus_stops = bus_stops['value']\n",
    "nums =[500* i for i in range(1,11)]\n",
    "\n",
    "for num in nums:\n",
    "    bus_stops2 = lta.get_bus_stops2(num)  # modified method to generate dummy  * the api can call 500 record at once, so need to call multiple times to get all records\n",
    "    bus_stops2 = bus_stops2['value']\n",
    "    bus_stops.extend(bus_stops2)\n",
    "\n",
    "print(len(bus_stops))\n",
    "df_bus_stops =  pd.DataFrame.from_dict(bus_stops)\n",
    "df_bus_stops"
   ]
  },
  {
   "cell_type": "code",
   "execution_count": null,
   "metadata": {},
   "outputs": [],
   "source": [
    "# df_taps\n",
    "# filepath = 'transport_node_bus_202402.zip'\n",
    "# taps = lta.get_passenger_vol_by_bus_stops(filepath)\n",
    "# df_taps = to_df(taps)\n",
    "\n",
    "# Path to your CSV file\n",
    "csv_file_path = 'data/transport_node_bus_202402.csv'\n",
    "\n",
    "# Read the CSV file into a DataFrame\n",
    "df_taps = pd.read_csv(csv_file_path)\n",
    "\n",
    "# Display the first few rows of the DataFrame\n",
    "df_taps"
   ]
  },
  {
   "cell_type": "code",
   "execution_count": null,
   "metadata": {},
   "outputs": [],
   "source": [
    "# Preprocess df_taps\n",
    "df = df_taps\n",
    "\n",
    "# Filter 'PT_TYPE' == 'BUS'\n",
    "df = df[df['PT_TYPE'] == 'BUS']\n",
    "\n",
    "# Group by YEAR_MONTH, PT_CODE, and sum TOTAL_TAP_IN_VOLUME TOTAL_TAP_OUT_VOLUME\n",
    "condensed_df = df.groupby(['YEAR_MONTH', 'PT_CODE']).agg({'TOTAL_TAP_IN_VOLUME': 'sum', 'TOTAL_TAP_OUT_VOLUME': 'sum'}).reset_index()\n",
    "condensed_df['TOTAL_TAP_VOLUME'] = condensed_df['TOTAL_TAP_IN_VOLUME'] + condensed_df['TOTAL_TAP_OUT_VOLUME']\n",
    "\n",
    "# Display the condensed DataFrame\n",
    "condensed_df"
   ]
  },
  {
   "cell_type": "code",
   "execution_count": null,
   "metadata": {},
   "outputs": [],
   "source": [
    "# Test preprocess_df_taps\n",
    "df_taps = preprocess_df_taps(df_taps)\n",
    "df_taps"
   ]
  },
  {
   "cell_type": "code",
   "execution_count": null,
   "metadata": {},
   "outputs": [],
   "source": [
    "# Check very large tap number\n",
    "df_taps[df_taps['PT_CODE'] == 75009]"
   ]
  },
  {
   "cell_type": "code",
   "execution_count": null,
   "metadata": {},
   "outputs": [],
   "source": [
    "# Merge df_taps in df_distance_totalTrips\n",
    "\n",
    "# Merge the dataframes based on matching YEAR_MONTH and PT_CODE\n",
    "merged_df = df_distance_totalTrips.merge(df_taps, \n",
    "                                         left_on=['YEAR_MONTH', 'ORIGIN_PT_CODE'], \n",
    "                                         right_on=['YEAR_MONTH', 'PT_CODE'], \n",
    "                                         how='left')\n",
    "\n",
    "# Merge again for the destination PT_CODE\n",
    "merged_df = merged_df.merge(df_taps, \n",
    "                             left_on=['YEAR_MONTH', 'DESTINATION_PT_CODE'], \n",
    "                             right_on=['YEAR_MONTH', 'PT_CODE'], \n",
    "                             suffixes=('_origin', '_destination'), \n",
    "                             how='left')\n",
    "\n",
    "# Calculate the passenger volume by summing TOTAL_TAP_VOLUME from both origin and destination\n",
    "merged_df['passenger_volume'] = merged_df['TOTAL_TAP_VOLUME_origin'] + merged_df['TOTAL_TAP_VOLUME_destination']\n",
    "\n",
    "# Calculate the passenger volume by summing TOTAL_TAP_VOLUME from both origin and destination\n",
    "merged_df['passenger_volume'] = merged_df['TOTAL_TAP_VOLUME_origin'] + merged_df['TOTAL_TAP_VOLUME_destination']\n",
    "\n",
    "# Drop unnecessary columns\n",
    "merged_df.drop(columns=['PT_CODE_origin', 'TOTAL_TAP_IN_VOLUME_origin', 'TOTAL_TAP_OUT_VOLUME_origin',  'PT_CODE_destination',\n",
    "                        'TOTAL_TAP_IN_VOLUME_destination', 'TOTAL_TAP_OUT_VOLUME_destination', 'ORIGIN_PT_CODE', 'DESTINATION_PT_CODE'], inplace=True)\n",
    "\n",
    "merged_df"
   ]
  },
  {
   "cell_type": "code",
   "execution_count": null,
   "metadata": {},
   "outputs": [],
   "source": [
    "# Test merge_taps_distance_totalTrips\n",
    "df_taps_distance_totalTrips = merge_taps_distance_totalTrips(df_taps, df_distance_totalTrips)\n",
    "df_taps_distance_totalTrips"
   ]
  },
  {
   "cell_type": "code",
   "execution_count": null,
   "metadata": {},
   "outputs": [],
   "source": [
    "# Compute bus/car CO2 emission\n",
    "df = df_taps_distance_totalTrips\n",
    "bus_CO2_rate = 0.48  # kg/km\n",
    "car_CO2_rate = 0.167  # kg/km\n",
    "bus2car_ratio = 1/4  # approximation: 1/4 passengers taking car and carpool\n",
    "df['co2_by_bus'] = df['origin_dest_distance']*df['TOTAL_TRIPS']*bus_CO2_rate\n",
    "df['co2_by_car'] = df['origin_dest_distance']*df['TOTAL_TRIPS']*df['passenger_volume']*bus2car_ratio*car_CO2_rate\n",
    "df['co2_reduction'] = df['co2_by_car'] - df['co2_by_bus']\n",
    "df"
   ]
  },
  {
   "cell_type": "code",
   "execution_count": null,
   "metadata": {},
   "outputs": [],
   "source": [
    "# Test df_co2\n",
    "df_co2 = get_df_co2(df_taps_distance_totalTrips)\n",
    "df_co2"
   ]
  },
  {
   "cell_type": "code",
   "execution_count": null,
   "metadata": {},
   "outputs": [],
   "source": [
    "df_co2.iloc[:,0]\n",
    "df_co2.iloc[:,-3]\n",
    "df_co2.iloc[:,-2]\n"
   ]
  },
  {
   "cell_type": "code",
   "execution_count": null,
   "metadata": {},
   "outputs": [],
   "source": [
    "# demo graph visualization\n",
    "import plotly.graph_objects as go\n",
    "\n",
    "x= df_co2.iloc[:,0]\n",
    "y_car = df_co2.iloc[:,-2]\n",
    "y_bus = df_co2.iloc[:,-3]\n",
    "fig = go.Figure(data=[\n",
    "    go.Bar(name=\"Car\", x=x, y=y_car),\n",
    "    go.Bar(name=\"Bus\", x=x, y=y_bus)\n",
    "\n",
    "])\n",
    "\n",
    "fig.update_layout()\n",
    "\n",
    "# Set the y-axis to log scale\n",
    "fig.update_yaxes(type='log')\n",
    "\n",
    "# Show the plot\n",
    "fig.show()"
   ]
  },
  {
   "cell_type": "markdown",
   "metadata": {},
   "source": [
    "## Checking df_OD_volume"
   ]
  },
  {
   "cell_type": "code",
   "execution_count": null,
   "metadata": {},
   "outputs": [],
   "source": [
    "# Load existing zipped data\n",
    "current_folder_path = os.getcwd()\n",
    "data_folder_name = \"data\"\n",
    "data_file_name = \"origin_destination_bus_202402.zip\"\n",
    "data_file_path = os.path.join(current_folder_path, data_folder_name, data_file_name)\n",
    "df = pd.read_csv(data_file_path)\n",
    "df"
   ]
  },
  {
   "cell_type": "code",
   "execution_count": null,
   "metadata": {},
   "outputs": [],
   "source": [
    "# Bus 10\n",
    "df[(df['ORIGIN_PT_CODE'] == 75009) & (df['DESTINATION_PT_CODE'] == 76051)]"
   ]
  },
  {
   "cell_type": "code",
   "execution_count": null,
   "metadata": {},
   "outputs": [],
   "source": [
    "# Find rows where ORIGIN_PT_CODE equals DESTINATION_PT_CODE\n",
    "    # Findings: No origin-destination total trips for loop service\n",
    "df[df['ORIGIN_PT_CODE'] == df['DESTINATION_PT_CODE']]"
   ]
  },
  {
   "cell_type": "code",
   "execution_count": null,
   "metadata": {},
   "outputs": [],
   "source": [
    "# Bus 101: loop service\n",
    "# May need to get rid of loop-service bus (ex: 101) on the map, since there's no origin-destination total-trips for this bus\n",
    "\n",
    "origin = 66009\n",
    "destination = 62189\n",
    "df[(df['ORIGIN_PT_CODE'] == origin) & (df['DESTINATION_PT_CODE'] == destination)]\n",
    "# df[(df['ORIGIN_PT_CODE'] == origin)]"
   ]
  },
  {
   "cell_type": "code",
   "execution_count": null,
   "metadata": {},
   "outputs": [],
   "source": [
    "# Bus 100\n",
    "# No origin-destination total_trips data for this route?\n",
    "\n",
    "origin = 11009\n",
    "destination = 66009\n",
    "df[(df['ORIGIN_PT_CODE'] == origin) & (df['DESTINATION_PT_CODE'] == destination)]\n",
    "# df[(df['ORIGIN_PT_CODE'] == origin)]"
   ]
  },
  {
   "cell_type": "code",
   "execution_count": null,
   "metadata": {},
   "outputs": [],
   "source": [
    "# Bus 100\n",
    "# Direction 1 has same total trips as Direction 2?\n",
    "    # Findings: seems not\n",
    "\n",
    "origin = 66009\n",
    "destination = 11009\n",
    "df[(df['ORIGIN_PT_CODE'] == origin) & (df['DESTINATION_PT_CODE'] == destination)]\n",
    "# df[(df['ORIGIN_PT_CODE'] == origin)]"
   ]
  },
  {
   "cell_type": "code",
   "execution_count": null,
   "metadata": {},
   "outputs": [],
   "source": [
    "# Bus 10\n",
    "\n",
    "origin = 75009\n",
    "destination = 16009\n",
    "df[(df['ORIGIN_PT_CODE'] == origin) & (df['DESTINATION_PT_CODE'] == destination)]"
   ]
  },
  {
   "cell_type": "code",
   "execution_count": null,
   "metadata": {},
   "outputs": [],
   "source": [
    "origin = 16009\n",
    "destination = 75009\n",
    "df[(df['ORIGIN_PT_CODE'] == origin) & (df['DESTINATION_PT_CODE'] == destination)]"
   ]
  },
  {
   "cell_type": "code",
   "execution_count": null,
   "metadata": {},
   "outputs": [],
   "source": []
  }
 ],
 "metadata": {
  "kernelspec": {
   "display_name": "CSE6242",
   "language": "python",
   "name": "python3"
  },
  "language_info": {
   "codemirror_mode": {
    "name": "ipython",
    "version": 3
   },
   "file_extension": ".py",
   "mimetype": "text/x-python",
   "name": "python",
   "nbconvert_exporter": "python",
   "pygments_lexer": "ipython3",
   "version": "3.11.8"
  }
 },
 "nbformat": 4,
 "nbformat_minor": 2
}
